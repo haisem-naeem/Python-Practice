{
 "cells": [
  {
   "cell_type": "code",
   "execution_count": 26,
   "metadata": {},
   "outputs": [],
   "source": [
    "import mysql.connector"
   ]
  },
  {
   "cell_type": "code",
   "execution_count": 27,
   "metadata": {},
   "outputs": [],
   "source": [
    "mydb = mysql.connector.connect(\n",
    "  host=\"localhost\",\n",
    "  user=\"root\",\n",
    "  password=\"admin\",\n",
    "  database=\"mydatabase\"\n",
    ")\n",
    "\n"
   ]
  },
  {
   "cell_type": "code",
   "execution_count": 28,
   "metadata": {},
   "outputs": [],
   "source": [
    "mycursor=mydb.cursor()\n",
    "\n",
    "mycursor.execute(\"CREATE TABLE interns (id INT AUTO_INCREMENT PRIMARY KEY, name VARCHAR(255), phone_number INT)\")\n"
   ]
  },
  {
   "cell_type": "code",
   "execution_count": 29,
   "metadata": {},
   "outputs": [
    {
     "name": "stdout",
     "output_type": "stream",
     "text": [
      "('interns',)\n"
     ]
    }
   ],
   "source": [
    "mycursor.execute(\"SHOW TABLES\")\n",
    "\n",
    "for x in mycursor:\n",
    "  print(x)"
   ]
  },
  {
   "cell_type": "code",
   "execution_count": 25,
   "metadata": {},
   "outputs": [],
   "source": [
    "mycursor.execute(\"Drop table interns\")"
   ]
  },
  {
   "cell_type": "code",
   "execution_count": 30,
   "metadata": {},
   "outputs": [],
   "source": [
    "mycursor.execute(\"ALTER TABLE interns MODIFY COLUMN phone_number VARCHAR(255)\")"
   ]
  },
  {
   "cell_type": "code",
   "execution_count": 31,
   "metadata": {},
   "outputs": [
    {
     "name": "stdout",
     "output_type": "stream",
     "text": [
      "3 record inserted\n"
     ]
    }
   ],
   "source": [
    "sql= \"INSERT INTO interns(name,phone_number) VALUES(%s,%s)\"\n",
    "val = [\n",
    "       ('John', \"1234567890\"),\n",
    "       ('adil',\"03338036635\"),\n",
    "       ('ahmed',\"03338036632\")\n",
    "       ]\n",
    "mycursor.executemany(sql,val)\n",
    "mydb.commit()\n",
    "print(mycursor.rowcount, \"record inserted\")"
   ]
  },
  {
   "cell_type": "code",
   "execution_count": 32,
   "metadata": {},
   "outputs": [
    {
     "name": "stdout",
     "output_type": "stream",
     "text": [
      "(1, 'John', '1234567890')\n",
      "(2, 'adil', '03338036635')\n",
      "(3, 'ahmed', '03338036632')\n"
     ]
    }
   ],
   "source": [
    "mycursor.execute(\"SELECT * FROM interns\")\n",
    "\n",
    "myresult = mycursor.fetchall()\n",
    "\n",
    "for x in myresult:\n",
    "  print(x)"
   ]
  },
  {
   "cell_type": "code",
   "execution_count": 33,
   "metadata": {},
   "outputs": [
    {
     "name": "stdout",
     "output_type": "stream",
     "text": [
      "(2, 'adil', '03338036635')\n"
     ]
    }
   ],
   "source": [
    "sql = \"SELECT * FROM interns WHERE phone_number ='03338036635'\"\n",
    "\n",
    "mycursor.execute(sql)\n",
    "\n",
    "myresult = mycursor.fetchall()\n",
    "\n",
    "for x in myresult:\n",
    "  print(x)"
   ]
  },
  {
   "cell_type": "code",
   "execution_count": 36,
   "metadata": {},
   "outputs": [
    {
     "name": "stdout",
     "output_type": "stream",
     "text": [
      "(3, 'ahmed', '03338036632')\n"
     ]
    }
   ],
   "source": [
    "sql = \"SELECT * FROM interns WHERE name LIKE '%med%'\"\n",
    "\n",
    "mycursor.execute(sql)\n",
    "\n",
    "myresult = mycursor.fetchall()\n",
    "\n",
    "for x in myresult:\n",
    "  print(x)"
   ]
  },
  {
   "cell_type": "code",
   "execution_count": 37,
   "metadata": {},
   "outputs": [
    {
     "name": "stdout",
     "output_type": "stream",
     "text": [
      "(2, 'adil', '03338036635')\n",
      "(3, 'ahmed', '03338036632')\n",
      "(1, 'John', '1234567890')\n"
     ]
    }
   ],
   "source": [
    "sql = \"SELECT * FROM interns ORDER BY name\"\n",
    "\n",
    "mycursor.execute(sql)\n",
    "\n",
    "myresult = mycursor.fetchall()\n",
    "\n",
    "for x in myresult:\n",
    "  print(x)"
   ]
  },
  {
   "cell_type": "code",
   "execution_count": 38,
   "metadata": {},
   "outputs": [
    {
     "name": "stdout",
     "output_type": "stream",
     "text": [
      "1 record(s) deleted\n"
     ]
    }
   ],
   "source": [
    "sql = \"DELETE FROM interns WHERE name = 'John'\"\n",
    "\n",
    "mycursor.execute(sql)\n",
    "\n",
    "mydb.commit()\n",
    "\n",
    "print(mycursor.rowcount, \"record(s) deleted\")"
   ]
  },
  {
   "cell_type": "code",
   "execution_count": 39,
   "metadata": {},
   "outputs": [],
   "source": [
    "mycursor = mydb.cursor()\n",
    "\n",
    "sql = \"DROP TABLE IF EXISTS customers\"\n",
    "\n",
    "mycursor.execute(sql)"
   ]
  },
  {
   "cell_type": "code",
   "execution_count": 40,
   "metadata": {},
   "outputs": [
    {
     "name": "stdout",
     "output_type": "stream",
     "text": [
      "1 record(s) affected\n"
     ]
    }
   ],
   "source": [
    "sql = \"UPDATE interns SET name = 'Haisem' WHERE name = 'Adil'\"\n",
    "\n",
    "mycursor.execute(sql)\n",
    "\n",
    "mydb.commit()\n",
    "\n",
    "print(mycursor.rowcount, \"record(s) affected\")"
   ]
  },
  {
   "cell_type": "code",
   "execution_count": 41,
   "metadata": {},
   "outputs": [
    {
     "name": "stdout",
     "output_type": "stream",
     "text": [
      "9 record inserted\n"
     ]
    }
   ],
   "source": [
    "sql= \"INSERT INTO interns(name,phone_number) VALUES(%s,%s)\"\n",
    "val = [\n",
    "    ('Emily', \"0987654321\"),\n",
    "    ('Michael', \"0112233445\"),\n",
    "    ('Sarah', \"0778899001\"),\n",
    "    ('Chris', \"0912345678\"),\n",
    "    ('Taylor', \"0321456789\"),\n",
    "    ('Jordan', \"0432167890\"),\n",
    "    ('Liam', \"0808080808\"),\n",
    "    ('Ava', \"0909090909\"),\n",
    "    ('Noah', \"1000100010\")\n",
    "]\n",
    "mycursor.executemany(sql,val)\n",
    "mydb.commit()\n",
    "print(mycursor.rowcount, \"record inserted\")"
   ]
  },
  {
   "cell_type": "code",
   "execution_count": 44,
   "metadata": {},
   "outputs": [
    {
     "name": "stdout",
     "output_type": "stream",
     "text": [
      "(4, 'Emily', '0987654321')\n",
      "(5, 'Michael', '0112233445')\n",
      "(6, 'Sarah', '0778899001')\n",
      "(7, 'Chris', '0912345678')\n",
      "(8, 'Taylor', '0321456789')\n"
     ]
    }
   ],
   "source": [
    "#If you want to return five records, starting from the third record, you can use the \"OFFSET\" keyword:\n",
    "mycursor.execute(\"SELECT * FROM interns LIMIT 5 OFFSET 2\")\n",
    "\n",
    "myresult = mycursor.fetchall()\n",
    "\n",
    "for x in myresult:\n",
    "  print(x)"
   ]
  },
  {
   "cell_type": "code",
   "execution_count": 45,
   "metadata": {},
   "outputs": [
    {
     "name": "stdout",
     "output_type": "stream",
     "text": [
      "Tables created and data inserted successfully.\n"
     ]
    }
   ],
   "source": [
    "\n",
    "mycursor.execute(\"\"\"\n",
    "CREATE TABLE IF NOT EXISTS users (\n",
    "    id INT PRIMARY KEY,\n",
    "    name VARCHAR(255) NOT NULL,\n",
    "    fav INT\n",
    ");\n",
    "\"\"\")\n",
    "\n",
    "mycursor.executemany(\"\"\"\n",
    "INSERT INTO users (id, name, fav) VALUES (%s, %s, %s);\n",
    "\"\"\", [\n",
    "    (1, 'John', 154),\n",
    "    (2, 'Peter', 154),\n",
    "    (3, 'Amy', 155),\n",
    "    (4, 'Hannah', None),\n",
    "    (5, 'Michael', None)\n",
    "])\n",
    "\n",
    "mycursor.execute(\"\"\"\n",
    "CREATE TABLE IF NOT EXISTS products (\n",
    "    id INT PRIMARY KEY,\n",
    "    name VARCHAR(255) NOT NULL\n",
    ");\n",
    "\"\"\")\n",
    "\n",
    "mycursor.executemany(\"\"\"\n",
    "INSERT INTO products (id, name) VALUES (%s, %s);\n",
    "\"\"\", [\n",
    "    (154, 'Chocolate Heaven'),\n",
    "    (155, 'Tasty Lemons'),\n",
    "    (156, 'Vanilla Dreams')\n",
    "])\n",
    "\n",
    "\n",
    "mydb.commit()\n",
    "\n",
    "print(\"Tables created and data inserted successfully.\")"
   ]
  },
  {
   "cell_type": "code",
   "execution_count": 52,
   "metadata": {},
   "outputs": [
    {
     "name": "stdout",
     "output_type": "stream",
     "text": [
      "('John', 'Chocolate Heaven')\n",
      "('Peter', 'Chocolate Heaven')\n",
      "('Amy', 'Tasty Lemons')\n"
     ]
    }
   ],
   "source": [
    "sql = \"\"\"\n",
    "SELECT\n",
    "    users.name AS user,\n",
    "    products.name AS favorite_product\n",
    "FROM\n",
    "    users\n",
    "INNER JOIN\n",
    "    products ON users.fav = products.id;\n",
    "\"\"\"\n",
    "\n",
    "mycursor.execute(sql)\n",
    "\n",
    "myresult = mycursor.fetchall()\n",
    "\n",
    "for x in myresult:\n",
    "  print(x)"
   ]
  },
  {
   "cell_type": "code",
   "execution_count": 56,
   "metadata": {},
   "outputs": [
    {
     "name": "stdout",
     "output_type": "stream",
     "text": [
      "('John', 'Chocolate Heaven')\n",
      "('Peter', 'Chocolate Heaven')\n",
      "('Amy', 'Tasty Lemons')\n",
      "('Hannah', None)\n",
      "('Michael', None)\n"
     ]
    }
   ],
   "source": [
    "sql = \"\"\"\n",
    "SELECT\n",
    "    users.name AS user,\n",
    "    products.name AS favorite_product\n",
    "FROM\n",
    "    users\n",
    "LEFT JOIN\n",
    "    products ON users.fav = products.id;\n",
    "\"\"\"\n",
    "\n",
    "mycursor.execute(sql)\n",
    "\n",
    "myresult = mycursor.fetchall()\n",
    "\n",
    "for x in myresult:\n",
    "  print(x)"
   ]
  },
  {
   "cell_type": "code",
   "execution_count": 54,
   "metadata": {},
   "outputs": [
    {
     "name": "stdout",
     "output_type": "stream",
     "text": [
      "('Peter', 'Chocolate Heaven')\n",
      "('John', 'Chocolate Heaven')\n",
      "('Amy', 'Tasty Lemons')\n",
      "(None, 'Vanilla Dreams')\n"
     ]
    }
   ],
   "source": [
    "sql = \"\"\"\n",
    "SELECT\n",
    "    users.name AS user,\n",
    "    products.name AS favorite_product\n",
    "FROM\n",
    "    users\n",
    "RIGHT JOIN\n",
    "    products ON users.fav = products.id;\n",
    "\"\"\"\n",
    "\n",
    "mycursor.execute(sql)\n",
    "\n",
    "myresult = mycursor.fetchall()\n",
    "\n",
    "for x in myresult:\n",
    "  print(x)"
   ]
  },
  {
   "cell_type": "code",
   "execution_count": 62,
   "metadata": {},
   "outputs": [
    {
     "name": "stdout",
     "output_type": "stream",
     "text": [
      "('John', 'Chocolate Heaven')\n",
      "('Peter', 'Chocolate Heaven')\n",
      "('Amy', 'Tasty Lemons')\n"
     ]
    }
   ],
   "source": [
    "sql = \"\"\"\n",
    "SELECT\n",
    "    users.name AS user,\n",
    "    products.name AS favorite_product\n",
    "FROM\n",
    "    users,products\n",
    "WHERE\n",
    "    users.fav = products.id\n",
    "\"\"\"\n",
    "\n",
    "mycursor.execute(sql)\n",
    "\n",
    "myresult = mycursor.fetchall()\n",
    "\n",
    "for x in myresult:\n",
    "  print(x)"
   ]
  },
  {
   "cell_type": "code",
   "execution_count": 71,
   "metadata": {},
   "outputs": [],
   "source": [
    "cursor = mydb.cursor()\n",
    "\n",
    "cursor.execute(\"\"\"\n",
    "CREATE TABLE employees (\n",
    "    employee_id INT PRIMARY KEY,\n",
    "    name VARCHAR(255)\n",
    ")\n",
    "\"\"\")\n",
    "\n",
    "cursor.execute(\"\"\"\n",
    "CREATE TABLE products (\n",
    "    product_id INT PRIMARY KEY,\n",
    "    product_name VARCHAR(255)\n",
    ")\n",
    "\"\"\")\n",
    "\n",
    "cursor.execute(\"\"\"\n",
    "CREATE TABLE favorites (\n",
    "    employee_id INT,\n",
    "    product_id INT,\n",
    "    FOREIGN KEY (employee_id) REFERENCES employees(employee_id),\n",
    "    FOREIGN KEY (product_id) REFERENCES products(product_id)\n",
    ")\n",
    "\"\"\")\n",
    "\n",
    "employees = [\n",
    "    (1, 'John'),\n",
    "    (2, 'Peter'),\n",
    "    (3, 'Amy')\n",
    "]\n",
    "\n",
    "cursor.executemany(\"INSERT INTO employees (employee_id, name) VALUES (%s, %s)\", employees)\n",
    "\n",
    "products = [\n",
    "    (154, 'Chocolate Heaven'),\n",
    "    (155, 'Tasty Lemons'),\n",
    "    (156, 'Vanilla Dreams')\n",
    "]\n",
    "\n",
    "cursor.executemany(\"INSERT INTO products (product_id, product_name) VALUES (%s, %s)\", products)\n",
    "\n",
    "favorites = [\n",
    "    (1, 154),\n",
    "    (2, 154),\n",
    "    (3, 155)\n",
    "]\n",
    "\n",
    "cursor.executemany(\"INSERT INTO favorites (employee_id, product_id) VALUES (%s, %s)\", favorites)\n",
    "\n",
    "\n",
    "mydb.commit()"
   ]
  },
  {
   "cell_type": "code",
   "execution_count": 79,
   "metadata": {},
   "outputs": [
    {
     "name": "stdout",
     "output_type": "stream",
     "text": [
      "('John', 'Chocolate Heaven')\n",
      "('Peter', 'Chocolate Heaven')\n",
      "('Amy', 'Tasty Lemons')\n"
     ]
    }
   ],
   "source": [
    "sql = \"\"\"\n",
    "SELECT\n",
    "    e.name AS employee,\n",
    "    p.product_name AS favorite_product\n",
    "FROM\n",
    "    employees e\n",
    "INNER JOIN\n",
    "    favorites f ON e.employee_id = f.employee_id\n",
    "INNER JOIN\n",
    "    products p ON f.product_id = p.product_id;\n",
    "order by\n",
    "    e.name\n",
    "\"\"\"\n",
    "\n",
    "\n",
    "cursor.execute(sql)\n",
    "\n",
    "results = cursor.fetchall()\n",
    "\n",
    "for row in results:\n",
    "    print(row)"
   ]
  },
  {
   "cell_type": "code",
   "execution_count": null,
   "metadata": {},
   "outputs": [],
   "source": []
  }
 ],
 "metadata": {
  "kernelspec": {
   "display_name": "Python 3",
   "language": "python",
   "name": "python3"
  },
  "language_info": {
   "codemirror_mode": {
    "name": "ipython",
    "version": 3
   },
   "file_extension": ".py",
   "mimetype": "text/x-python",
   "name": "python",
   "nbconvert_exporter": "python",
   "pygments_lexer": "ipython3",
   "version": "3.11.9"
  }
 },
 "nbformat": 4,
 "nbformat_minor": 2
}
