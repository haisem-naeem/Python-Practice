{
 "cells": [
  {
   "cell_type": "markdown",
   "metadata": {},
   "source": [
    "## **DAY 1 PRACTICE**"
   ]
  },
  {
   "cell_type": "code",
   "execution_count": 44,
   "metadata": {},
   "outputs": [
    {
     "name": "stdout",
     "output_type": "stream",
     "text": [
      "True\n",
      "False\n"
     ]
    }
   ],
   "source": [
    "\n",
    "#all()\n",
    "x=(\"0\",1,1,True)\n",
    "print(all(x))\n",
    "\n",
    "mydict = {1 : \"\", 0 : \"1\"}\n",
    "print(all(mydict))\n",
    "#in dict only keys are checked not values"
   ]
  },
  {
   "cell_type": "code",
   "execution_count": 1,
   "metadata": {},
   "outputs": [
    {
     "name": "stdout",
     "output_type": "stream",
     "text": [
      "True\n"
     ]
    }
   ],
   "source": [
    "#any() works same as all \n",
    "x=(\"0\",0,0)\n",
    "print(any(x))"
   ]
  },
  {
   "cell_type": "code",
   "execution_count": 56,
   "metadata": {},
   "outputs": [
    {
     "name": "stdout",
     "output_type": "stream",
     "text": [
      "'=_%@\\xe5'\n",
      "{'\\xe5': 'vr', 1: '\\xe5'}\n"
     ]
    }
   ],
   "source": [
    "#ascii \n",
    "#works for any data type\n",
    "x=\"=_%@å\"\n",
    "print(ascii(x))\n",
    "x={\"å\":\"vr\",1:\"å\"}\n",
    "print(ascii(x))"
   ]
  },
  {
   "cell_type": "code",
   "execution_count": 60,
   "metadata": {},
   "outputs": [
    {
     "name": "stdout",
     "output_type": "stream",
     "text": [
      "0b111000\n"
     ]
    }
   ],
   "source": [
    "#bin\n",
    "print(bin(56))\n",
    "#always starts with 0b"
   ]
  },
  {
   "cell_type": "code",
   "execution_count": 68,
   "metadata": {},
   "outputs": [
    {
     "name": "stdout",
     "output_type": "stream",
     "text": [
      "bytearray(b'\\x00\\x00\\x00')\n",
      "bytearray(b'Hello')\n",
      "bytearray(b'ACEL')\n"
     ]
    }
   ],
   "source": [
    "#bytearray\n",
    "print(bytearray(3))\n",
    "\n",
    "print(bytearray(\"Hello\", \"utf-8\")) \n",
    "\n",
    "print(bytearray([65,67,69,76]))\n",
    "\n",
    "#not clear"
   ]
  },
  {
   "cell_type": "code",
   "execution_count": 69,
   "metadata": {},
   "outputs": [
    {
     "name": "stdout",
     "output_type": "stream",
     "text": [
      "True\n"
     ]
    }
   ],
   "source": [
    "#callable\n",
    "def x():\n",
    "  print(\"my name is haisem\")\n",
    "\n",
    "print(callable(x))"
   ]
  },
  {
   "cell_type": "code",
   "execution_count": 70,
   "metadata": {},
   "outputs": [
    {
     "name": "stdout",
     "output_type": "stream",
     "text": [
      "C\n"
     ]
    }
   ],
   "source": [
    "#chr\n",
    "print(chr(67))"
   ]
  },
  {
   "cell_type": "code",
   "execution_count": 30,
   "metadata": {},
   "outputs": [
    {
     "name": "stdout",
     "output_type": "stream",
     "text": [
      "lo\n"
     ]
    }
   ],
   "source": [
    "#slicing\n",
    "b = \"Hello, World!\"\n",
    "print(b[-10:5])"
   ]
  },
  {
   "cell_type": "code",
   "execution_count": 31,
   "metadata": {},
   "outputs": [
    {
     "name": "stdout",
     "output_type": "stream",
     "text": [
      "my name     is haisem\n",
      "   my name     is haisem\n"
     ]
    }
   ],
   "source": [
    "#strip\n",
    "\n",
    "x='   my name     is haisem'\n",
    "\n",
    "print(x.strip())\n",
    "print(x)"
   ]
  },
  {
   "cell_type": "code",
   "execution_count": 32,
   "metadata": {},
   "outputs": [
    {
     "name": "stdout",
     "output_type": "stream",
     "text": [
      "_,_,_,my_,name_,_,_,_,_,is_,haisem\n"
     ]
    }
   ],
   "source": [
    "#replacing\n",
    "print(x.replace(\" \",\"_,\"))"
   ]
  },
  {
   "cell_type": "code",
   "execution_count": 33,
   "metadata": {},
   "outputs": [
    {
     "name": "stdout",
     "output_type": "stream",
     "text": [
      "['my name', 'is haisem']\n"
     ]
    }
   ],
   "source": [
    "#split\n",
    "x=x.strip()\n",
    "print(x.split(\"     \"))"
   ]
  },
  {
   "cell_type": "code",
   "execution_count": 29,
   "metadata": {},
   "outputs": [
    {
     "name": "stdout",
     "output_type": "stream",
     "text": [
      "my name {str}\n",
      "The price is 250.00 dollars\n"
     ]
    }
   ],
   "source": [
    "#format strings\n",
    "def price():\n",
    "    return 50\n",
    "str=\" dfb\"\n",
    "txt = f\"The price is {price()*5:.2f} dollars\"\n",
    "print(txt)"
   ]
  },
  {
   "cell_type": "code",
   "execution_count": 90,
   "metadata": {},
   "outputs": [
    {
     "name": "stdout",
     "output_type": "stream",
     "text": [
      "I'm a boy\n",
      "x\\y\n",
      "World!\n",
      "Hello\n",
      "Hello\n"
     ]
    }
   ],
   "source": [
    "#escape characters\n",
    "#single quote\n",
    "print('I\\'m a boy')\n",
    "#backslash\n",
    "print(\"x\\\\y\")\n",
    "#carriage return\n",
    "print(\"Hello\\rWorld!\")\n",
    "#octal \n",
    "print( \"\\110\\145\\154\\154\\157\")\n",
    "#hex\n",
    "print(\"\\x48\\x65\\x6c\\x6c\\x6f\")"
   ]
  },
  {
   "cell_type": "code",
   "execution_count": 96,
   "metadata": {},
   "outputs": [
    {
     "name": "stdout",
     "output_type": "stream",
     "text": [
      "_______hello________\n"
     ]
    }
   ],
   "source": [
    "x = \"hello\"\n",
    "print(x.center(20,\"_\"))"
   ]
  },
  {
   "cell_type": "code",
   "execution_count": 103,
   "metadata": {},
   "outputs": [
    {
     "name": "stdout",
     "output_type": "stream",
     "text": [
      "False\n",
      "True\n",
      "True\n"
     ]
    }
   ],
   "source": [
    "#bool\n",
    "x = \"\"\n",
    "\n",
    "\n",
    "print(bool(x))\n",
    "print(bool([\"apple\", \"\", \"banana\"]))\n",
    "print(isinstance(x,str))"
   ]
  },
  {
   "cell_type": "code",
   "execution_count": 109,
   "metadata": {},
   "outputs": [
    {
     "name": "stdout",
     "output_type": "stream",
     "text": [
      "1\n",
      "1\n",
      "7\n",
      "5\n",
      "2\n"
     ]
    }
   ],
   "source": [
    "#operators\n",
    "x = 5\n",
    "x//=3\n",
    "print(x)\n",
    "x=5\n",
    "x&=3\n",
    "print(x)\n",
    "x|=6#bitwise or\n",
    "print(x)\n",
    "x^=2#bitwise xor\n",
    "print(x)\n",
    "x>>=1#bitwise right shift\n",
    "print(x)"
   ]
  },
  {
   "cell_type": "code",
   "execution_count": null,
   "metadata": {},
   "outputs": [],
   "source": [
    "'''List is a collection which is ordered and changeable. Allows duplicate members.\n",
    "Tuple is a collection which is ordered and unchangeable. Allows duplicate members.\n",
    "Set is a collection which is unordered, unchangeable*, and unindexed. No duplicate members.\n",
    "Dictionary is a collection which is ordered** and changeable. No duplicate members.'''"
   ]
  },
  {
   "cell_type": "code",
   "execution_count": 110,
   "metadata": {},
   "outputs": [
    {
     "name": "stdout",
     "output_type": "stream",
     "text": [
      "False\n",
      "True\n",
      "False\n"
     ]
    }
   ],
   "source": [
    "x = [\"haisem\", \"naeem\"]\n",
    "y = [\"haisem\", \"naeem\"]\n",
    "z = x\n",
    "\n",
    "print(x is not z)\n",
    "print(x is not y)\n",
    "print(x != y)"
   ]
  },
  {
   "cell_type": "code",
   "execution_count": 26,
   "metadata": {},
   "outputs": [
    {
     "name": "stdout",
     "output_type": "stream",
     "text": [
      "['a', 'b', 'c', 'f', 'k', 'm']\n",
      "['a', 'w', 'q', 'e', 'f', 'k', 'm']\n",
      "['h', 'j', 'a']\n",
      "['a', 'e', 'b', 'c', 'a']\n",
      "['e', 'b', 'c', 'a']\n",
      "['e', 'c', 'a']\n",
      "['c', 'a']\n",
      "[]\n",
      "c\n",
      "a\n",
      "c\n",
      "a\n",
      "['a']\n",
      "['c', 'h']\n",
      "['a', 'h', 'j']\n",
      "['j', 'h', 'a']\n",
      "j\n",
      "h\n",
      "a\n"
     ]
    }
   ],
   "source": [
    "list1 = [\"a\", \"f\", \"e\", \"f\", \"k\", \"m\"]\n",
    "list1[1:3] = [\"b\", \"c\"]\n",
    "print(list1)\n",
    "\n",
    "list1 = [\"a\", \"f\", \"e\", \"f\", \"k\", \"m\"]\n",
    "list1[1:2] = [\"w\", \"q\"]\n",
    "print(list1)\n",
    "\n",
    "list1 = [\"a\", \"f\", \"e\", \"f\", \"k\", \"a\"]\n",
    "list1[0:5] = [\"h\", \"j\"]\n",
    "print(list1)\n",
    "\n",
    "#use append to add at the end of list and insert to insert at any index\n",
    "l1=[\"a\",\"b\"]\n",
    "l2=[\"c\",\"a\"]\n",
    "l1.extend(l2)\n",
    "l1.insert(1,\"e\")\n",
    "print(l1)\n",
    "#you can extend tuples to a list also\n",
    "l1.remove(\"a\")\n",
    "print(l1)#removes first occurance only\n",
    "l1.pop(1)\n",
    "print(l1)#remove at index\n",
    "#del can also be used\n",
    "del l1[0]\n",
    "print(l1)\n",
    "l1.clear()\n",
    "print(l1)\n",
    "del l1\n",
    "\n",
    "for i in range(len(l2)):\n",
    "  print(l2[i])\n",
    "\n",
    "[print(x) for x in l2]\n",
    "\n",
    "l3=[x for x in l2 if \"a\" in x]\n",
    "print(l3)\n",
    "\n",
    "l3=[x if x!= \"a\" else \"h\" for x in l2]\n",
    "print(l3)\n",
    "list1.sort()#can be done alphabetically and numerically depends on data members\n",
    "print(list1)\n",
    "list1.sort(reverse=True)\n",
    "print(list1)\n",
    "\n",
    "l4=list1.copy()\n",
    "l2.extend(l4)\n",
    "\n",
    "for x in range(len(list1)):\n",
    "  print(list1[x])\n"
   ]
  },
  {
   "cell_type": "code",
   "execution_count": 150,
   "metadata": {},
   "outputs": [
    {
     "name": "stdout",
     "output_type": "stream",
     "text": [
      "apple\n",
      "banana\n",
      "cherry\n",
      "apple\n",
      "['banana', 'cherry']\n",
      "('apple', 'banana', 'cherry', 'apple', 'banana', 'cherry')\n"
     ]
    }
   ],
   "source": [
    "fruits = (\"apple\", \"banana\", \"cherry\")\n",
    "(x,y,z)=fruits\n",
    "\n",
    "print(x)\n",
    "print(y)\n",
    "print(z)\n",
    "\n",
    "fruits = (\"apple\", \"banana\", \"cherry\")\n",
    "(x,*y)=fruits\n",
    "\n",
    "print(x)\n",
    "print(y)\n",
    "\n",
    "mytuple = fruits * 2\n",
    "\n",
    "print(mytuple)"
   ]
  },
  {
   "cell_type": "code",
   "execution_count": 10,
   "metadata": {},
   "outputs": [
    {
     "name": "stdout",
     "output_type": "stream",
     "text": [
      "{'a', 'banana', 'cherry', 'c', 'grapes', 'apple', 'b'}\n",
      "{'a', 'banana', 'cherry', 'c', 'grapes', 'apple', 'b'}\n",
      "{'a', 'c', 'apple', 'banana', 'cherry'}\n",
      "{'microsoft', 'banana', 'cherry', 'google'}\n"
     ]
    },
    {
     "data": {
      "text/plain": [
       "'banana'"
      ]
     },
     "execution_count": 10,
     "metadata": {},
     "output_type": "execute_result"
    }
   ],
   "source": [
    "thisset = {\"apple\", \"banana\", \"cherry\"}\n",
    "thisset.add(\"grapes\")\n",
    "newset=set((\"a\",\"b\",\"c\"))\n",
    "thisset.update(newset)#list can aslo be added union() and |  can also be used(also for more than 2 sets)\n",
    "# | only allows sets with sets only not tuples\n",
    "#intersection and &\n",
    "set2={\"a\",\"b\",\"grapes\"}\n",
    "#thisset.intersection_update(set2)\n",
    "set2={\"d\",\"b\",\"grapes\"}\n",
    "set3=thisset.difference(set2)#- can also be used just like |\n",
    "print(thisset)\n",
    "print(set3)\n",
    "set1 = {\"apple\", \"banana\", \"cherry\"}\n",
    "set2 = {\"google\", \"microsoft\", \"apple\"}\n",
    "set3 = set1.symmetric_difference(set2)#prints items not in both ^ can also be used\n",
    "print(set3)\n",
    "thisset.remove(\"a\")\n",
    "thisset.discard(\"a\")#doesnt raise error if not present\n",
    "thisset.pop()#removes any item\n",
    "#clear for emptying set and del for deleteing it\n"
   ]
  },
  {
   "cell_type": "code",
   "execution_count": 11,
   "metadata": {},
   "outputs": [
    {
     "name": "stdout",
     "output_type": "stream",
     "text": [
      "dict_values(['Ford', 'Mustang', 1964])\n",
      "dict_values(['Ford', 'Mustang', 1964, 'white'])\n",
      "dict_items([('brand', 'Ford'), ('model', 'Mustang'), ('year', 1964), ('color', 'white')])\n"
     ]
    }
   ],
   "source": [
    "#dictionaries\n",
    "car = {\n",
    "\"brand\": \"Ford\",\n",
    "\"model\": \"Mustang\",\n",
    "\"year\": 1964,\n",
    "}\n",
    "x = car.values()\n",
    "print(x) \n",
    "car[\"color\"] = \"white\"\n",
    "print(x) \n",
    "print(car.items())"
   ]
  },
  {
   "cell_type": "code",
   "execution_count": 175,
   "metadata": {},
   "outputs": [
    {
     "name": "stdout",
     "output_type": "stream",
     "text": [
      "{'brand': 'Ford', 'model': 'Mustang', 'year': 1964}\n"
     ]
    }
   ],
   "source": [
    "thisdict = {\n",
    "  \"brand\": \"Ford\",\n",
    "  \"model\": \"Mustang\",\n",
    "  \"year\": 1964\n",
    "}\n",
    "mydict = thisdict.copy()\n",
    "print(mydict)"
   ]
  },
  {
   "cell_type": "code",
   "execution_count": 171,
   "metadata": {},
   "outputs": [
    {
     "name": "stdout",
     "output_type": "stream",
     "text": [
      "child1\n",
      "name: Emil\n",
      "year: 2004\n",
      "child2\n",
      "name: Tobias\n",
      "year: 2007\n",
      "child3\n",
      "name: Linus\n",
      "year: 2011\n"
     ]
    }
   ],
   "source": [
    "#nested dictionaries\n",
    "child1 = {\n",
    "  \"name\" : \"Emil\",\n",
    "  \"year\" : 2004\n",
    "}\n",
    "child2 = {\n",
    "  \"name\" : \"Tobias\",\n",
    "  \"year\" : 2007\n",
    "}\n",
    "child3 = {\n",
    "  \"name\" : \"Linus\",\n",
    "  \"year\" : 2011\n",
    "}\n",
    "\n",
    "myfamily = {\n",
    "  \"child1\" : child1,\n",
    "  \"child2\" : child2,\n",
    "  \"child3\" : child3\n",
    "}\n",
    "for x, obj in myfamily.items():\n",
    "  print(x)\n",
    "\n",
    "  for y in obj:\n",
    "    print(y + ':', obj[y])"
   ]
  },
  {
   "cell_type": "code",
   "execution_count": 177,
   "metadata": {},
   "outputs": [
    {
     "name": "stdout",
     "output_type": "stream",
     "text": [
      "{'key1': ('a', 'b', 'c'), 'key2': ('a', 'b', 'c'), 'key3': ('a', 'b', 'c')}\n"
     ]
    }
   ],
   "source": [
    "x = ('key1', 'key2', 'key3')\n",
    "y = ('a','b','c')\n",
    "\n",
    "thisdict2 = dict.fromkeys(x, y)\n",
    "\n",
    "print(thisdict2)"
   ]
  },
  {
   "cell_type": "code",
   "execution_count": 179,
   "metadata": {},
   "outputs": [
    {
     "name": "stdout",
     "output_type": "stream",
     "text": [
      "Mustang\n",
      "1400\n"
     ]
    }
   ],
   "source": [
    "x=thisdict.get(\"model\")\n",
    "print(x)\n",
    "\n",
    "x=thisdict.get(\"price\",1400)\n",
    "print(x)"
   ]
  },
  {
   "cell_type": "code",
   "execution_count": 181,
   "metadata": {},
   "outputs": [
    {
     "name": "stdout",
     "output_type": "stream",
     "text": [
      "3\n"
     ]
    }
   ],
   "source": [
    "#short hand if else\n",
    "a=2 \n",
    "b=3\n",
    "print(\"1\") if a>b else print(\"2\") if a==b else print(3) "
   ]
  },
  {
   "cell_type": "code",
   "execution_count": null,
   "metadata": {},
   "outputs": [],
   "source": [
    "#pass statement\n",
    "if a>b:\n",
    "    pass"
   ]
  },
  {
   "cell_type": "code",
   "execution_count": 14,
   "metadata": {},
   "outputs": [
    {
     "name": "stdout",
     "output_type": "stream",
     "text": [
      "0\n",
      "1\n",
      "2\n",
      "4\n",
      "5\n",
      "Finally finished!\n"
     ]
    }
   ],
   "source": [
    "#else can be used with while and for\n",
    "for x in range(2,6,3):\n",
    "  if x == 3: break\n",
    "  print(x)\n",
    "else:\n",
    "  print(\"Finally finished!\")"
   ]
  },
  {
   "cell_type": "code",
   "execution_count": 187,
   "metadata": {},
   "outputs": [
    {
     "name": "stdout",
     "output_type": "stream",
     "text": [
      "Haisem N\n"
     ]
    }
   ],
   "source": [
    "def my_function(fname, lname=\"Naeem\"):\n",
    "  print(fname + \" \" + lname)\n",
    "\n",
    "my_function(\"Haisem\",\"N\")"
   ]
  },
  {
   "cell_type": "code",
   "execution_count": 16,
   "metadata": {},
   "outputs": [
    {
     "name": "stdout",
     "output_type": "stream",
     "text": [
      "The youngest child is Linus\n",
      "3\n",
      "3\n"
     ]
    }
   ],
   "source": [
    "#for unknown number of arguments\n",
    "def my_function(*kids):\n",
    "  print(\"The youngest child is \" + kids[2])\n",
    "\n",
    "my_function(\"Emil\", \"Tobias\", \"Linus\")\n",
    "\n",
    "def my_function(x, /):\n",
    "  print(x)\n",
    "\n",
    "my_function(3)\n",
    "\n",
    "def my_function(*, x):\n",
    "  print(x)\n",
    "\n",
    "my_function(x = 3)"
   ]
  },
  {
   "cell_type": "code",
   "execution_count": 20,
   "metadata": {},
   "outputs": [
    {
     "name": "stdout",
     "output_type": "stream",
     "text": [
      "15\n"
     ]
    }
   ],
   "source": [
    "#Lambda functions\n",
    "x = lambda a,b=0,c=0,d=0 : a + 10\n",
    "print(x(5))"
   ]
  },
  {
   "cell_type": "code",
   "execution_count": 23,
   "metadata": {},
   "outputs": [
    {
     "name": "stdout",
     "output_type": "stream",
     "text": [
      "50\n"
     ]
    }
   ],
   "source": [
    "def myfunc(n):\n",
    "  return lambda a : a * n\n",
    "\n",
    "x=myfunc(5)\n",
    "print(x(10))"
   ]
  },
  {
   "cell_type": "markdown",
   "metadata": {},
   "source": [
    "## **DAY2 PRACTICE**"
   ]
  },
  {
   "cell_type": "code",
   "execution_count": 43,
   "metadata": {},
   "outputs": [
    {
     "name": "stdout",
     "output_type": "stream",
     "text": [
      "dog\n",
      "dog, 10\n"
     ]
    }
   ],
   "source": [
    "class pet:\n",
    "    def __init__(self,x,y):\n",
    "        self._name=x\n",
    "        self._age=y\n",
    "    \n",
    "    def __str__(self):\n",
    "        return f\"{self._name}, {self._age}\"\n",
    "\n",
    "x= pet(\"dog\",10)\n",
    "print(x._name)\n",
    "print(x)\n",
    "#del x.age\n",
    "#del pet    \n",
    "\n"
   ]
  },
  {
   "cell_type": "code",
   "execution_count": 47,
   "metadata": {},
   "outputs": [
    {
     "name": "stdout",
     "output_type": "stream",
     "text": [
      "This is a private method\n"
     ]
    }
   ],
   "source": [
    "class MyClass:\n",
    "    def __init__(self):\n",
    "        self.__private_attribute = \"I am private\"\n",
    "\n",
    "    def __private_method(self):\n",
    "        print(\"This is a private method\")\n",
    "\n",
    "    def access_private_method(self):\n",
    "        self.__private_method()  # Private method accessible within the class\n",
    "\n",
    "obj = MyClass()\n",
    "# print(obj.__private_attribute)  # Not accessible, will raise an AttributeError\n",
    "# obj.__private_method()          # Not accessible, will raise an AttributeError\n",
    "obj.access_private_method()       # Accessible through a public method within the class\n"
   ]
  },
  {
   "cell_type": "code",
   "execution_count": 52,
   "metadata": {},
   "outputs": [
    {
     "name": "stdout",
     "output_type": "stream",
     "text": [
      "I am protected\n",
      "This is a protected method\n",
      "Haisem, 21\n"
     ]
    }
   ],
   "source": [
    "class MyClass:\n",
    "    def __init__(self,x,y):\n",
    "        self.name=x\n",
    "        self.age=y\n",
    "        self._protected_attribute = \"I am protected\"\n",
    "\n",
    "    def _protected_method(self):\n",
    "        print(\"This is a protected method\")\n",
    "\n",
    "class SubClass(MyClass):\n",
    "    def __init__(self,x,y):\n",
    "        MyClass.__init__(self,y,x)\n",
    "    def __str__(self):\n",
    "        return f\"{self.name}, {self.age}\"\n",
    "    def access_protected(self):\n",
    "        print(self._protected_attribute)  # Accessible within a subclass\n",
    "        self._protected_method()          # Accessible within a subclass\n",
    "\n",
    "obj = SubClass(\"Haisem\",21)\n",
    "obj.access_protected()\n",
    "print(obj)\n",
    "\n",
    "# print(obj._protected_attribute)  # Accessible, but should be avoided\n",
    "# obj._protected_method()          # Accessible, but should be avoided\n"
   ]
  },
  {
   "cell_type": "code",
   "execution_count": 59,
   "metadata": {},
   "outputs": [
    {
     "name": "stdout",
     "output_type": "stream",
     "text": [
      "15\n"
     ]
    }
   ],
   "source": [
    "\n",
    "def sum_all(*numbers):\n",
    "    return sum(numbers)\n",
    "\n",
    "result = sum_all(1, 2, 3, 4, 5)\n",
    "print(result)  # Output: 15"
   ]
  },
  {
   "cell_type": "code",
   "execution_count": 67,
   "metadata": {},
   "outputs": [
    {
     "name": "stdout",
     "output_type": "stream",
     "text": [
      "Hello! Welcome to demofile.txt\n",
      "This file is for testing purposes.\n",
      "Good Luck!\n",
      "Hello! Welcome to demofile.txt\n",
      "This file is for testing purposes.\n",
      "Good Luck!\n",
      "added a new line\n"
     ]
    }
   ],
   "source": [
    "#file handling\n",
    "x=open(\"sample.txt\",'w')\n",
    "x.write(\"Hello! Welcome to demofile.txt\\nThis file is for testing purposes.\\nGood Luck!\")\n",
    "x.close()\n",
    "x=open(\"sample.txt\",'r')\n",
    "print(x.read())\n",
    "x.close()\n",
    "x=open(\"sample.txt\",'a')\n",
    "x.write(\"\\nadded a new line\")\n",
    "x.close()\n",
    "x=open(\"sample.txt\",'r')\n",
    "print(x.read())\n",
    "x.close()\n"
   ]
  },
  {
   "cell_type": "code",
   "execution_count": 18,
   "metadata": {},
   "outputs": [],
   "source": [
    "import csv\n",
    "\n",
    "# Write to CSV file\n",
    "with open(\"example.csv\", \"w\", newline='') as file:\n",
    "    writer = csv.writer(file)\n",
    "    writer.writerow([\"Name\", \"Age\"])\n",
    "    writer.writerow([\"Alice\", 30])\n",
    "    writer.writerow([\"Bob\", 25])\n"
   ]
  },
  {
   "cell_type": "code",
   "execution_count": 19,
   "metadata": {},
   "outputs": [
    {
     "name": "stdout",
     "output_type": "stream",
     "text": [
      "['Name', 'Age']\n",
      "['Alice', '30']\n",
      "['Bob', '25']\n"
     ]
    }
   ],
   "source": [
    "import csv\n",
    "\n",
    "# Read CSV file\n",
    "with open(\"example.csv\", \"r\") as file:\n",
    "    reader = csv.reader(file)\n",
    "    for row in reader:\n",
    "        print(row)\n"
   ]
  },
  {
   "cell_type": "code",
   "execution_count": 20,
   "metadata": {},
   "outputs": [],
   "source": [
    "import json\n",
    "\n",
    "# Write to JSON file\n",
    "data = {\"name\": \"Alice\", \"age\": 30}\n",
    "\n",
    "with open(\"example.json\", \"w\") as file:\n",
    "    json.dump(data, file, indent=4)\n"
   ]
  },
  {
   "cell_type": "code",
   "execution_count": 21,
   "metadata": {},
   "outputs": [
    {
     "name": "stdout",
     "output_type": "stream",
     "text": [
      "{'name': 'Alice', 'age': 30}\n"
     ]
    }
   ],
   "source": [
    "import json\n",
    "\n",
    "# Read JSON file\n",
    "with open(\"example.json\", \"r\") as file:\n",
    "    data = json.load(file)\n",
    "    print(data)\n"
   ]
  },
  {
   "cell_type": "code",
   "execution_count": 23,
   "metadata": {},
   "outputs": [
    {
     "name": "stdout",
     "output_type": "stream",
     "text": [
      "30\n"
     ]
    }
   ],
   "source": [
    "#JSON to python\n",
    "import json\n",
    "\n",
    "# some JSON:\n",
    "x =  '{ \"name\":\"John\", \"age\":30, \"city\":\"New York\"}'\n",
    "\n",
    "# parse x:\n",
    "y = json.loads(x)\n",
    "\n",
    "# the result is a Python dictionary:\n",
    "print(y[\"age\"])"
   ]
  },
  {
   "cell_type": "code",
   "execution_count": 1,
   "metadata": {},
   "outputs": [
    {
     "name": "stdout",
     "output_type": "stream",
     "text": [
      "{\n",
      "    \"age\": 30,\n",
      "    \"cars\": [\n",
      "        {\n",
      "            \"model\": \"BMW 230\",\n",
      "            \"mpg\": 27.5\n",
      "        },\n",
      "        {\n",
      "            \"model\": \"Ford Edge\",\n",
      "            \"mpg\": 24.1\n",
      "        }\n",
      "    ],\n",
      "    \"children\": [\n",
      "        \"Ann\",\n",
      "        \"Billy\"\n",
      "    ],\n",
      "    \"divorced\": false,\n",
      "    \"married\": true,\n",
      "    \"name\": \"John\",\n",
      "    \"pets\": null\n",
      "}\n"
     ]
    }
   ],
   "source": [
    "import json\n",
    "\n",
    "x = {\n",
    "  \"name\": \"John\",\n",
    "  \"age\": 30,\n",
    "  \"married\": True,\n",
    "  \"divorced\": False,\n",
    "  \"children\": (\"Ann\",\"Billy\"),\n",
    "  \"pets\": None,\n",
    "  \"cars\": [\n",
    "    {\"model\": \"BMW 230\", \"mpg\": 27.5},\n",
    "    {\"model\": \"Ford Edge\", \"mpg\": 24.1}\n",
    "  ]\n",
    "}\n",
    "\n",
    "#json.dumps(x, indent=4, separators=(\". \", \" = \"))\n",
    "x=json.dumps(x, indent=4, sort_keys=True)\n",
    "print(x)"
   ]
  },
  {
   "cell_type": "code",
   "execution_count": 8,
   "metadata": {},
   "outputs": [
    {
     "name": "stdout",
     "output_type": "stream",
     "text": [
      "Collecting openpyxl\n",
      "  Using cached openpyxl-3.1.5-py2.py3-none-any.whl.metadata (2.5 kB)\n",
      "Collecting et-xmlfile (from openpyxl)\n",
      "  Using cached et_xmlfile-1.1.0-py3-none-any.whl.metadata (1.8 kB)\n",
      "Using cached openpyxl-3.1.5-py2.py3-none-any.whl (250 kB)\n",
      "Using cached et_xmlfile-1.1.0-py3-none-any.whl (4.7 kB)\n",
      "Installing collected packages: et-xmlfile, openpyxl\n",
      "Successfully installed et-xmlfile-1.1.0 openpyxl-3.1.5\n",
      "Note: you may need to restart the kernel to use updated packages.\n"
     ]
    },
    {
     "name": "stderr",
     "output_type": "stream",
     "text": [
      "\n",
      "[notice] A new release of pip is available: 24.0 -> 24.1.2\n",
      "[notice] To update, run: python.exe -m pip install --upgrade pip\n"
     ]
    }
   ],
   "source": [
    "import pandas as pd\n",
    "\n",
    "%pip install openpyxl\n",
    "\n",
    "# Write to Excel file\n",
    "data = {\"Name\": [\"Alice\", \"Bob\"], \"Age\": [30, 25]}\n",
    "df = pd.DataFrame(data)\n",
    "\n",
    "df.to_excel(\"example.xlsx\", sheet_name=\"Sheet1\", index=False, engine=\"openpyxl\")\n"
   ]
  },
  {
   "cell_type": "code",
   "execution_count": 9,
   "metadata": {},
   "outputs": [
    {
     "name": "stdout",
     "output_type": "stream",
     "text": [
      "    Name  Age\n",
      "0  Alice   30\n",
      "1    Bob   25\n"
     ]
    }
   ],
   "source": [
    "import pandas as pd\n",
    "\n",
    "# Read Excel file\n",
    "df = pd.read_excel(\"example.xlsx\", sheet_name=\"Sheet1\")\n",
    "print(df)\n"
   ]
  },
  {
   "cell_type": "code",
   "execution_count": 69,
   "metadata": {},
   "outputs": [
    {
     "name": "stdout",
     "output_type": "stream",
     "text": [
      "Hello! Welcome to demofile.txt\n",
      "This file is for testing purposes.\n",
      "Good Luck!\n",
      "added a new line\n"
     ]
    }
   ],
   "source": [
    "try:         # Open a file in read mode         \n",
    "    with open('sample.txt', 'r') as file:             \n",
    "        content = file.read()             \n",
    "        print(content)     \n",
    "except FileNotFoundError:         \n",
    "    print(\"File not found.\")"
   ]
  },
  {
   "cell_type": "code",
   "execution_count": 75,
   "metadata": {},
   "outputs": [
    {
     "name": "stdout",
     "output_type": "stream",
     "text": [
      "succefull\n"
     ]
    }
   ],
   "source": [
    "try:         # Open a file in write mode         \n",
    "    with open('example.txt', 'w') as file:             \n",
    "        file.write(\"Hello, World!\")    \n",
    "        print(\"succefull\") \n",
    "        file.close()\n",
    "except IOError:         \n",
    "    print(\"Error writing to the file.\")"
   ]
  },
  {
   "cell_type": "code",
   "execution_count": 81,
   "metadata": {},
   "outputs": [
    {
     "name": "stdout",
     "output_type": "stream",
     "text": [
      "Something went wrong when writing to the file\n",
      "This will always run\n"
     ]
    }
   ],
   "source": [
    "#exception handling\n",
    "try:\n",
    "    f=open(\"sample.txt\")\n",
    "    try:\n",
    "        f.write(\"This is a test\")\n",
    "    except:\n",
    "        print(\"Something went wrong when writing to the file\")\n",
    "    else:\n",
    "        print(\"Something else went wrong\")\n",
    "    finally:\n",
    "        print(\"This will always run\")\n",
    "except:\n",
    "    print(\"Something went wrong when opening the file\")"
   ]
  },
  {
   "cell_type": "code",
   "execution_count": 82,
   "metadata": {},
   "outputs": [
    {
     "ename": "Exception",
     "evalue": "Sorry, no numbers below zero",
     "output_type": "error",
     "traceback": [
      "\u001b[1;31m---------------------------------------------------------------------------\u001b[0m",
      "\u001b[1;31mException\u001b[0m                                 Traceback (most recent call last)",
      "Cell \u001b[1;32mIn[82], line 4\u001b[0m\n\u001b[0;32m      1\u001b[0m x \u001b[38;5;241m=\u001b[39m \u001b[38;5;241m-\u001b[39m\u001b[38;5;241m1\u001b[39m\n\u001b[0;32m      3\u001b[0m \u001b[38;5;28;01mif\u001b[39;00m x \u001b[38;5;241m<\u001b[39m \u001b[38;5;241m0\u001b[39m:\n\u001b[1;32m----> 4\u001b[0m   \u001b[38;5;28;01mraise\u001b[39;00m \u001b[38;5;167;01mException\u001b[39;00m(\u001b[38;5;124m\"\u001b[39m\u001b[38;5;124mSorry, no numbers below zero\u001b[39m\u001b[38;5;124m\"\u001b[39m)\n",
      "\u001b[1;31mException\u001b[0m: Sorry, no numbers below zero"
     ]
    }
   ],
   "source": [
    "x = -1\n",
    "\n",
    "if x < 0:\n",
    "  raise Exception(\"Sorry, no numbers below zero\")"
   ]
  },
  {
   "cell_type": "code",
   "execution_count": 83,
   "metadata": {},
   "outputs": [
    {
     "ename": "TypeError",
     "evalue": "Only integers are allowed",
     "output_type": "error",
     "traceback": [
      "\u001b[1;31m---------------------------------------------------------------------------\u001b[0m",
      "\u001b[1;31mTypeError\u001b[0m                                 Traceback (most recent call last)",
      "Cell \u001b[1;32mIn[83], line 4\u001b[0m\n\u001b[0;32m      1\u001b[0m x \u001b[38;5;241m=\u001b[39m \u001b[38;5;124m\"\u001b[39m\u001b[38;5;124mhello\u001b[39m\u001b[38;5;124m\"\u001b[39m\n\u001b[0;32m      3\u001b[0m \u001b[38;5;28;01mif\u001b[39;00m \u001b[38;5;129;01mnot\u001b[39;00m \u001b[38;5;28mtype\u001b[39m(x) \u001b[38;5;129;01mis\u001b[39;00m \u001b[38;5;28mint\u001b[39m:\n\u001b[1;32m----> 4\u001b[0m   \u001b[38;5;28;01mraise\u001b[39;00m \u001b[38;5;167;01mTypeError\u001b[39;00m(\u001b[38;5;124m\"\u001b[39m\u001b[38;5;124mOnly integers are allowed\u001b[39m\u001b[38;5;124m\"\u001b[39m)\n",
      "\u001b[1;31mTypeError\u001b[0m: Only integers are allowed"
     ]
    }
   ],
   "source": [
    "x = \"hello\"\n",
    "\n",
    "if not type(x) is int:\n",
    "  raise TypeError(\"Only integers are allowed\")"
   ]
  },
  {
   "cell_type": "code",
   "execution_count": 3,
   "metadata": {},
   "outputs": [
    {
     "name": "stdout",
     "output_type": "stream",
     "text": [
      "Custom error caught: This is a custom error.\n"
     ]
    }
   ],
   "source": [
    "class CustomError(Exception):         \n",
    "    def __init__(self, message):             \n",
    "        self.message = message      \n",
    "\n",
    "# Try raising and catching the custom error\n",
    "try:         \n",
    "    raise CustomError(\"This is a custom error.\")     \n",
    "except CustomError as ce:         \n",
    "    print(f\"Custom error caught: {ce.message}\")\n",
    "\n",
    "# Create an instance of the CustomError class\n",
    "x = CustomError(\"sfv\")\n"
   ]
  },
  {
   "cell_type": "code",
   "execution_count": 2,
   "metadata": {},
   "outputs": [
    {
     "name": "stdout",
     "output_type": "stream",
     "text": [
      "Validation error: Input must be an integer.\n"
     ]
    },
    {
     "ename": "ValueError",
     "evalue": "Input must be an integer.",
     "output_type": "error",
     "traceback": [
      "\u001b[1;31m---------------------------------------------------------------------------\u001b[0m",
      "\u001b[1;31mValueError\u001b[0m                                Traceback (most recent call last)",
      "Cell \u001b[1;32mIn[2], line 9\u001b[0m\n\u001b[0;32m      6\u001b[0m \u001b[38;5;28;01mexcept\u001b[39;00m \u001b[38;5;167;01mValueError\u001b[39;00m \u001b[38;5;28;01mas\u001b[39;00m ve:         \n\u001b[0;32m      7\u001b[0m     \u001b[38;5;28mprint\u001b[39m(\u001b[38;5;124mf\u001b[39m\u001b[38;5;124m\"\u001b[39m\u001b[38;5;124mValidation error: \u001b[39m\u001b[38;5;132;01m{\u001b[39;00mve\u001b[38;5;132;01m}\u001b[39;00m\u001b[38;5;124m\"\u001b[39m)\n\u001b[1;32m----> 9\u001b[0m \u001b[43mvalidate_input\u001b[49m\u001b[43m(\u001b[49m\u001b[38;5;124;43m\"\u001b[39;49m\u001b[38;5;124;43mevwe\u001b[39;49m\u001b[38;5;124;43m\"\u001b[39;49m\u001b[43m)\u001b[49m\n",
      "Cell \u001b[1;32mIn[2], line 3\u001b[0m, in \u001b[0;36mvalidate_input\u001b[1;34m(value)\u001b[0m\n\u001b[0;32m      1\u001b[0m \u001b[38;5;28;01mdef\u001b[39;00m \u001b[38;5;21mvalidate_input\u001b[39m(value):         \n\u001b[0;32m      2\u001b[0m     \u001b[38;5;28;01mif\u001b[39;00m \u001b[38;5;129;01mnot\u001b[39;00m \u001b[38;5;28misinstance\u001b[39m(value, \u001b[38;5;28mint\u001b[39m):             \n\u001b[1;32m----> 3\u001b[0m         \u001b[38;5;28;01mraise\u001b[39;00m \u001b[38;5;167;01mValueError\u001b[39;00m(\u001b[38;5;124m\"\u001b[39m\u001b[38;5;124mInput must be an integer.\u001b[39m\u001b[38;5;124m\"\u001b[39m)\n",
      "\u001b[1;31mValueError\u001b[0m: Input must be an integer."
     ]
    }
   ],
   "source": [
    "\n",
    "def validate_input(value):         \n",
    "    if not isinstance(value, int):             \n",
    "        raise ValueError(\"Input must be an integer.\")      \n",
    "try:         \n",
    "    validate_input(\"invalid\")     \n",
    "except ValueError as ve:         \n",
    "    print(f\"Validation error: {ve}\")\n",
    "\n",
    "validate_input(\"evwe\")"
   ]
  },
  {
   "cell_type": "code",
   "execution_count": 5,
   "metadata": {},
   "outputs": [
    {
     "name": "stdout",
     "output_type": "stream",
     "text": [
      "Drive!\n",
      "Sail!\n",
      "Fly!\n"
     ]
    }
   ],
   "source": [
    "class Car:\n",
    "  def __init__(self, brand, model):\n",
    "    self.brand = brand\n",
    "    self.model = model\n",
    "\n",
    "  def move(self):\n",
    "    print(\"Drive!\")\n",
    "\n",
    "class Boat:\n",
    "  def __init__(self, brand, model):\n",
    "    self.brand = brand\n",
    "    self.model = model\n",
    "\n",
    "  def move(self):\n",
    "    print(\"Sail!\")\n",
    "\n",
    "class Plane:\n",
    "  def __init__(self, brand, model):\n",
    "    self.brand = brand\n",
    "    self.model = model\n",
    "\n",
    "  def move(self):\n",
    "    print(\"Fly!\")\n",
    "\n",
    "car1 = Car(\"Ford\", \"Mustang\")       #Create a Car class\n",
    "boat1 = Boat(\"Ibiza\", \"Touring 20\") #Create a Boat class\n",
    "plane1 = Plane(\"Boeing\", \"747\")     #Create a Plane class\n",
    "\n",
    "for x in (car1, boat1, plane1):\n",
    "  x.move()"
   ]
  },
  {
   "cell_type": "code",
   "execution_count": 7,
   "metadata": {},
   "outputs": [
    {
     "name": "stdout",
     "output_type": "stream",
     "text": [
      "Ford\n",
      "Mustang\n",
      "Move!\n",
      "Ibiza\n",
      "Touring 20\n",
      "Sail!\n",
      "Boeing\n",
      "747\n",
      "Fly!\n"
     ]
    }
   ],
   "source": [
    "class Vehicle:\n",
    "  def __init__(self, brand, model):\n",
    "    self.brand = brand\n",
    "    self.model = model\n",
    "\n",
    "  def move(self):\n",
    "    print(\"Move!\")\n",
    "\n",
    "class Car(Vehicle):\n",
    "  pass\n",
    "\n",
    "class Boat(Vehicle):\n",
    "  def move(self):\n",
    "    print(\"Sail!\")\n",
    "\n",
    "class Plane(Vehicle):\n",
    "  def move(self):\n",
    "    print(\"Fly!\")\n",
    "\n",
    "car1 = Car(\"Ford\", \"Mustang\") #Create a Car object\n",
    "boat1 = Boat(\"Ibiza\", \"Touring 20\") #Create a Boat object\n",
    "plane1 = Plane(\"Boeing\", \"747\") #Create a Plane object\n",
    "\n",
    "for x in (car1, boat1, plane1):\n",
    "  print(x.brand)\n",
    "  print(x.model)\n",
    "  x.move()"
   ]
  },
  {
   "cell_type": "code",
   "execution_count": 14,
   "metadata": {},
   "outputs": [
    {
     "name": "stdout",
     "output_type": "stream",
     "text": [
      "Radius: 5\n",
      "New Radius: 7\n"
     ]
    }
   ],
   "source": [
    "\n",
    "class Circle:\n",
    "    def __init__(self, radius):\n",
    "        self.__radius = radius  # private attribute\n",
    "\n",
    "    @property\n",
    "    def radius(self):\n",
    "        return self.__radius\n",
    "\n",
    "    @radius.setter\n",
    "    def radius(self, value):\n",
    "        if value > 0:\n",
    "            self.__radius = value\n",
    "        else:\n",
    "            print(\"Radius must be greater than zero.\")\n",
    "\n",
    "# Creating an instance of the Circle class\n",
    "my_circle = Circle(5)\n",
    "\n",
    "# Accessing and modifying the radius using properties\n",
    "print(\"Radius:\", my_circle.radius)  # Output: Radius: 5\n",
    "my_circle.radius = 7\n",
    "print(\"New Radius:\", my_circle.radius)  # Output: New Radius: 7\n",
    "\n",
    "\n"
   ]
  },
  {
   "cell_type": "code",
   "execution_count": 17,
   "metadata": {},
   "outputs": [],
   "source": [
    "from abc import ABC, abstractmethod\n",
    "\n",
    "class Vehicle(ABC):\n",
    "    @abstractmethod\n",
    "    def start(self):\n",
    "        pass\n",
    "\n",
    "    @abstractmethod\n",
    "    def stop(self):\n",
    "        pass\n",
    "class Car(Vehicle):\n",
    "    def start(self):\n",
    "        print(\"Car started\")\n",
    "\n",
    "    def stop(self):\n",
    "        print(\"Car stopped\")"
   ]
  },
  {
   "cell_type": "code",
   "execution_count": null,
   "metadata": {},
   "outputs": [],
   "source": [
    "class MyNumbers:\n",
    "  def __iter__(self):\n",
    "    self.a = 1\n",
    "    return self\n",
    "\n",
    "  def __next__(self):\n",
    "    x = self.a\n",
    "    self.a += 1\n",
    "    return x\n",
    "\n",
    "myclass = MyNumbers()\n",
    "myiter = iter(myclass)\n",
    "\n",
    "print(next(myiter))\n",
    "print(next(myiter))\n",
    "print(next(myiter))\n",
    "print(next(myiter))\n",
    "print(next(myiter))"
   ]
  },
  {
   "cell_type": "code",
   "execution_count": 3,
   "metadata": {},
   "outputs": [],
   "source": [
    "import re\n",
    "\n",
    "txt = \"The rain in Spain\"\n",
    "x = re.search(\"^The.*Spain$\", txt)\n"
   ]
  },
  {
   "cell_type": "code",
   "execution_count": 24,
   "metadata": {},
   "outputs": [
    {
     "name": "stdout",
     "output_type": "stream",
     "text": [
      "['h', 'e', 'a', 'a']\n",
      "[]\n",
      "['The r']\n",
      "Yes, the string starts with 'hello' or ends with '1987'\n",
      "['The rain in Spain in 1987']\n",
      "['Spain']\n",
      "Yes, there is at least one match!\n"
     ]
    }
   ],
   "source": [
    "import re\n",
    "\n",
    "txt = \"The rain in Spain in 1987\"\n",
    "\n",
    "#Find all lower case characters alphabetically between \"a\" and \"m\":\n",
    "x = re.findall(\"[a-h]\", txt)\n",
    "print(x)\n",
    "\n",
    "#find all digits\n",
    "x = re.findall(\"\\f\", txt)\n",
    "print(x)\n",
    "\n",
    "#Search for a sequence that starts with \"he\", followed by two (any) characters, and an \"o\":\n",
    "x = re.findall(\"Th..r\", txt)\n",
    "print(x)\n",
    "\n",
    "x = re.findall(\"^hello\", txt) or re.findall(\"1987$\", txt)#can also use \\A for start and \\Z for end\n",
    "if x:\n",
    "  print(\"Yes, the string starts with 'hello' or ends with '1987'\")\n",
    "else:\n",
    "  print(\"No match\")\n",
    "\n",
    "#Search for a sequence that starts with \"he\", followed by 0 or more  (any) characters, and an \"o\": and one or more occurance of any character bw \"T\" and \"e\"\n",
    "x = re.findall(\"T.+e.*7\", txt)\n",
    "print(x)\n",
    "# use ? for 0 or 1 occarance\n",
    "# {2} for specified occurance\n",
    "\n",
    "#Check if the string contains either \"falls\" or \"stays\":\n",
    "x = re.findall(\"falls|Spain\", txt)\n",
    "print(x)\n",
    "if x:\n",
    "  print(\"Yes, there is at least one match!\")\n",
    "else:\n",
    "  print(\"No match\")"
   ]
  },
  {
   "cell_type": "code",
   "execution_count": 31,
   "metadata": {},
   "outputs": [
    {
     "name": "stdout",
     "output_type": "stream",
     "text": [
      "[]\n",
      "No match\n"
     ]
    }
   ],
   "source": [
    "#Check if \"ain\" is present at the beginning of a WORD: use B to check if not present and similiarly use d and D for digits\n",
    "x = re.findall(r\"\\bain\", txt)\n",
    "print(x)\n",
    "if x:\n",
    "  print(\"Yes, there is at least one match!\")\n",
    "else:\n",
    "  print(\"No match\")"
   ]
  },
  {
   "cell_type": "code",
   "execution_count": 40,
   "metadata": {},
   "outputs": [
    {
     "name": "stdout",
     "output_type": "stream",
     "text": [
      "The first white-space character is located in position: 3\n",
      "['The', 'rain', 'in', 'Spain', 'in', '1987']\n",
      "['The', 'rain in Spain in 1987']\n",
      "The_rain_in Spain in 1987\n",
      "(12, 17)\n",
      "The rain in Spain in 1987\n",
      "Spain\n"
     ]
    }
   ],
   "source": [
    "x = re.search(\"\\s\", txt)\n",
    "\n",
    "print(\"The first white-space character is located in position:\", x.start())\n",
    "\n",
    "\n",
    "x = re.split(\"\\s\", txt)#seperate words\n",
    "print(x)\n",
    "\n",
    "x = re.split(\"\\s\", txt, 1)#split from first occurance\n",
    "print(x)\n",
    "\n",
    "x = re.sub(\"\\s\", \"_\", txt, 2)\n",
    "print(x)\n",
    "\n",
    "# Print the position (start- and end-position) of the first match occurrence.\n",
    "# The regular expression looks for any words that starts with an upper case \"S\":\n",
    "x = re.search(r\"\\bS\\w+\", txt)\n",
    "print(x.span())\n",
    "\n",
    "#return complete string\n",
    "x = re.search(r\"\\bS\\w+\", txt)\n",
    "print(x.string)\n",
    "\n",
    "#where match was found\n",
    "x = re.search(r\"\\bS\\w+\", txt)\n",
    "print(x.group())"
   ]
  },
  {
   "cell_type": "code",
   "execution_count": 44,
   "metadata": {},
   "outputs": [
    {
     "name": "stdout",
     "output_type": "stream",
     "text": [
      "Hello World\n"
     ]
    }
   ],
   "source": [
    "%pip install camelcase\n",
    "import camelcase\n",
    "c = camelcase.CamelCase()\n",
    "txt = \"hello world\"\n",
    "print(c.hump(txt))"
   ]
  },
  {
   "cell_type": "markdown",
   "metadata": {},
   "source": [
    "## **Day3 Practice**"
   ]
  },
  {
   "cell_type": "code",
   "execution_count": 2,
   "metadata": {},
   "outputs": [
    {
     "name": "stdout",
     "output_type": "stream",
     "text": [
      "2024\n",
      "Monday\n"
     ]
    }
   ],
   "source": [
    "import datetime\n",
    "\n",
    "x = datetime.datetime.now()\n",
    "\n",
    "print(x.year)\n",
    "print(x.strftime(\"%A\"))"
   ]
  },
  {
   "cell_type": "code",
   "execution_count": 1,
   "metadata": {},
   "outputs": [
    {
     "name": "stdout",
     "output_type": "stream",
     "text": [
      "Square: 100\n",
      "Cube: 1000\n",
      "Done!\n"
     ]
    }
   ],
   "source": [
    "import threading\n",
    "\n",
    "\n",
    "def print_cube(num):\n",
    "    print(\"Cube: {}\" .format(num * num * num))\n",
    "\n",
    "\n",
    "def print_square(num):\n",
    "    print(\"Square: {}\" .format(num * num))\n",
    "\n",
    "\n",
    "if __name__ ==\"__main__\":\n",
    "    t1 = threading.Thread(target=print_square, args=(10,))\n",
    "    t2 = threading.Thread(target=print_cube, args=(10,))\n",
    "\n",
    "    t1.start()\n",
    "    t2.start()\n",
    "\n",
    "    t1.join()\n",
    "    t2.join()\n",
    "\n",
    "    print(\"Done!\")\n"
   ]
  },
  {
   "cell_type": "code",
   "execution_count": 3,
   "metadata": {},
   "outputs": [
    {
     "name": "stdout",
     "output_type": "stream",
     "text": [
      "ID of process running main program: 6268\n",
      "Main thread name: MainThread\n",
      "Task 1 assigned to thread: t1\n",
      "ID of process running task 1: 6268\n",
      "Task 2 assigned to thread: t2\n",
      "ID of process running task 2: 6268\n"
     ]
    }
   ],
   "source": [
    "import threading\n",
    "import os\n",
    "\n",
    "def task1():\n",
    "    print(\"Task 1 assigned to thread: {}\".format(threading.current_thread().name))\n",
    "    print(\"ID of process running task 1: {}\".format(os.getpid()))\n",
    "\n",
    "def task2():\n",
    "    print(\"Task 2 assigned to thread: {}\".format(threading.current_thread().name))\n",
    "    print(\"ID of process running task 2: {}\".format(os.getpid()))\n",
    "\n",
    "if __name__ == \"__main__\":\n",
    "\n",
    "    print(\"ID of process running main program: {}\".format(os.getpid()))\n",
    "\n",
    "    print(\"Main thread name: {}\".format(threading.current_thread().name))\n",
    "\n",
    "    t1 = threading.Thread(target=task1, name='t1')\n",
    "    t2 = threading.Thread(target=task2, name='t2')\n",
    "\n",
    "    t1.start()\n",
    "    t2.start()\n",
    "\n",
    "    t1.join()\n",
    "    t2.join()\n"
   ]
  },
  {
   "cell_type": "code",
   "execution_count": 1,
   "metadata": {},
   "outputs": [
    {
     "name": "stdout",
     "output_type": "stream",
     "text": [
      "Thread Thread-5 (recursive_function) acquired lock: count=3\n",
      "Thread Thread-5 (recursive_function) acquired lock: count=2\n",
      "Thread Thread-5 (recursive_function) acquired lock: count=1\n",
      "Thread Thread-5 (recursive_function) acquired lock: count=0\n",
      "Thread Thread-6 (recursive_function) acquired lock: count=3\n",
      "Thread Thread-6 (recursive_function) acquired lock: count=2\n",
      "Thread Thread-6 (recursive_function) acquired lock: count=1\n",
      "Thread Thread-6 (recursive_function) acquired lock: count=0\n",
      "Thread Thread-7 (recursive_function) acquired lock: count=3\n",
      "Thread Thread-7 (recursive_function) acquired lock: count=2\n",
      "Thread Thread-7 (recursive_function) acquired lock: count=1\n",
      "Thread Thread-7 (recursive_function) acquired lock: count=0\n"
     ]
    }
   ],
   "source": [
    "import threading\n",
    "import os\n",
    "\n",
    "lock = threading.RLock()\n",
    "\n",
    "def recursive_function(count):\n",
    "    # Acquire the lock\n",
    "    lock.acquire()\n",
    "    print(f\"Thread {threading.current_thread().name} acquired lock: count={count}\")\n",
    "    if count > 0:\n",
    "        # Call the function recursively\n",
    "        recursive_function(count - 1)\n",
    "        # Release the lock\n",
    "    lock.release()\n",
    "\n",
    "# Create multiple threads\n",
    "threads = []\n",
    "for i in range(3):\n",
    "    t = threading.Thread(target=recursive_function, args=(3,))\n",
    "    threads.append(t)\n",
    "    t.start()\n",
    "\n",
    "# Wait for all threads to finish\n",
    "for t in threads:\n",
    "    t.join()"
   ]
  },
  {
   "cell_type": "code",
   "execution_count": 4,
   "metadata": {},
   "outputs": [
    {
     "name": "stdout",
     "output_type": "stream",
     "text": [
      "Worker thread runningWorker thread running\n",
      "\n",
      "Main thread continuing to run\n"
     ]
    }
   ],
   "source": [
    "import concurrent.futures\n",
    "\n",
    "def worker():\n",
    "    print(\"Worker thread running\")\n",
    "\n",
    "pool = concurrent.futures.ThreadPoolExecutor(max_workers=2)\n",
    "\n",
    "pool.submit(worker)\n",
    "pool.submit(worker)\n",
    "\n",
    "pool.shutdown(wait=True)\n",
    "\n",
    "print(\"Main thread continuing to run\")\n"
   ]
  },
  {
   "cell_type": "code",
   "execution_count": 8,
   "metadata": {},
   "outputs": [
    {
     "name": "stdout",
     "output_type": "stream",
     "text": [
      "Done!\n"
     ]
    }
   ],
   "source": [
    "# importing the multiprocessing module \n",
    "import multiprocessing \n",
    "\n",
    "def print_cube(num): \n",
    "\t\"\"\" \n",
    "\tfunction to print cube of given num \n",
    "\t\"\"\"\n",
    "\tprint(\"Cube: {}\".format(num * num * num)) \n",
    "\n",
    "def print_square(num): \n",
    "\t\"\"\" \n",
    "\tfunction to print square of given num \n",
    "\t\"\"\"\n",
    "\tprint(\"Square: {}\".format(num * num)) \n",
    "\n",
    "if __name__ == \"__main__\": \n",
    "\t# creating processes \n",
    "\tp1 = multiprocessing.Process(target=print_square, args=(10, )) \n",
    "\tp2 = multiprocessing.Process(target=print_cube, args=(10, )) \n",
    "\n",
    "\t# starting process 1 \n",
    "\tp1.start() \n",
    "\t# starting process 2 \n",
    "\tp2.start() \n",
    "\n",
    "\t# wait until process 1 is finished \n",
    "\tp1.join() \n",
    "\t# wait until process 2 is finished \n",
    "\tp2.join() \n",
    "\n",
    "\t# both processes finished \n",
    "\tprint(\"Done!\") \n"
   ]
  },
  {
   "cell_type": "code",
   "execution_count": 9,
   "metadata": {},
   "outputs": [
    {
     "name": "stdout",
     "output_type": "stream",
     "text": [
      "ID of main process: 6268\n",
      "ID of process p1: 11800\n",
      "ID of process p2: 16508\n",
      "Both processes finished execution!\n",
      "Process p1 is alive: False\n",
      "Process p2 is alive: False\n"
     ]
    }
   ],
   "source": [
    "# importing the multiprocessing module \n",
    "import multiprocessing \n",
    "import os \n",
    "\n",
    "def worker1(): \n",
    "\t# printing process id \n",
    "\tprint(\"ID of process running worker1: {}\".format(os.getpid())) \n",
    "\n",
    "def worker2(): \n",
    "\t# printing process id \n",
    "\tprint(\"ID of process running worker2: {}\".format(os.getpid())) \n",
    "\n",
    "if __name__ == \"__main__\": \n",
    "\t# printing main program process id \n",
    "\tprint(\"ID of main process: {}\".format(os.getpid())) \n",
    "\n",
    "\t# creating processes \n",
    "\tp1 = multiprocessing.Process(target=worker1) \n",
    "\tp2 = multiprocessing.Process(target=worker2) \n",
    "\n",
    "\t# starting processes \n",
    "\tp1.start() \n",
    "\tp2.start() \n",
    "\n",
    "\t# process IDs \n",
    "\tprint(\"ID of process p1: {}\".format(p1.pid)) \n",
    "\tprint(\"ID of process p2: {}\".format(p2.pid)) \n",
    "\n",
    "\t# wait until processes are finished \n",
    "\tp1.join() \n",
    "\tp2.join() \n",
    "\n",
    "\t# both processes finished \n",
    "\tprint(\"Both processes finished execution!\") \n",
    "\n",
    "\t# check if processes are alive \n",
    "\tprint(\"Process p1 is alive: {}\".format(p1.is_alive())) \n",
    "\tprint(\"Process p2 is alive: {}\".format(p2.is_alive())) \n"
   ]
  },
  {
   "cell_type": "code",
   "execution_count": 10,
   "metadata": {},
   "outputs": [
    {
     "name": "stdout",
     "output_type": "stream",
     "text": [
      "Initial queue\n",
      "['a', 'b', 'c']\n",
      "\n",
      "Elements dequeued from queue\n",
      "a\n",
      "b\n",
      "c\n",
      "\n",
      "Queue after removing elements\n",
      "[]\n"
     ]
    }
   ],
   "source": [
    "queue = []\n",
    "queue.append('a')\n",
    "queue.append('b')\n",
    "queue.append('c')\n",
    "print(\"Initial queue\")\n",
    "print(queue)\n",
    "print(\"\\nElements dequeued from queue\")\n",
    "print(queue.pop(0))\n",
    "print(queue.pop(0))\n",
    "print(queue.pop(0))\n",
    "print(\"\\nQueue after removing elements\")\n",
    "print(queue)\n"
   ]
  },
  {
   "cell_type": "code",
   "execution_count": 11,
   "metadata": {},
   "outputs": [
    {
     "name": "stdout",
     "output_type": "stream",
     "text": [
      "Initial queue\n",
      "deque(['a', 'b', 'c'])\n",
      "\n",
      "Elements dequeued from the queue\n",
      "a\n",
      "b\n",
      "c\n",
      "\n",
      "Queue after removing elements\n",
      "deque([])\n"
     ]
    }
   ],
   "source": [
    "from collections import deque\n",
    "q = deque()\n",
    "q.append('a')\n",
    "q.append('b')\n",
    "q.append('c')\n",
    "print(\"Initial queue\")\n",
    "print(q)\n",
    "print(\"\\nElements dequeued from the queue\")\n",
    "print(q.popleft())\n",
    "print(q.popleft())\n",
    "print(q.popleft())\n",
    "\n",
    "print(\"\\nQueue after removing elements\")\n",
    "print(q)\n"
   ]
  },
  {
   "cell_type": "code",
   "execution_count": 5,
   "metadata": {},
   "outputs": [
    {
     "name": "stdout",
     "output_type": "stream",
     "text": [
      "0\n",
      "\n",
      "Full:  True\n",
      "\n",
      "Elements dequeued from the queue\n",
      "a\n",
      "b\n",
      "c\n",
      "\n",
      "Empty:  True\n",
      "\n",
      "Empty:  False\n",
      "Full:  False\n"
     ]
    }
   ],
   "source": [
    "from queue import Queue\n",
    "q = Queue(maxsize = 3)\n",
    "print(q.qsize()) \n",
    "q.put('a')\n",
    "q.put('b')\n",
    "q.put('c')\n",
    "print(\"\\nFull: \", q.full()) \n",
    "print(\"\\nElements dequeued from the queue\")\n",
    "print(q.get())\n",
    "print(q.get())\n",
    "print(q.get())\n",
    "print(\"\\nEmpty: \", q.empty())\n",
    "q.put(1)\n",
    "print(\"\\nEmpty: \", q.empty()) \n",
    "print(\"Full: \", q.full())\n"
   ]
  },
  {
   "cell_type": "code",
   "execution_count": 6,
   "metadata": {},
   "outputs": [
    {
     "name": "stdout",
     "output_type": "stream",
     "text": [
      "(4, 'Stacy')\n",
      "(3, 'Charles')\n",
      "(2, 'Harry')\n",
      "(1, 'Riya')\n"
     ]
    }
   ],
   "source": [
    "customers = []\n",
    "customers.append((2, \"Harry\")) #no sort needed here because 1 item. \n",
    "customers.append((3, \"Charles\"))\n",
    "customers.sort(reverse=True) \n",
    "#Need to sort to maintain order\n",
    "customers.append((1, \"Riya\"))\n",
    "customers.sort(reverse=True) \n",
    "#Need to sort to maintain order\n",
    "customers.append((4, \"Stacy\"))\n",
    "customers.sort(reverse=True)\n",
    "while customers:\n",
    "     print(customers.pop(0))\n",
    "#Will print names in the order: Stacy, Charles, Harry, Riya. "
   ]
  },
  {
   "cell_type": "code",
   "execution_count": 6,
   "metadata": {},
   "outputs": [
    {
     "name": "stdout",
     "output_type": "stream",
     "text": [
      "Riya\n",
      "Harry\n",
      "Charles\n",
      "Stacy\n"
     ]
    }
   ],
   "source": [
    "import heapq\n",
    "customers = []\n",
    "heapq.heappush(customers, (2, \"Harry\"))\n",
    "heapq.heappush(customers, (3, \"Charles\"))\n",
    "heapq.heappush(customers, (1, \"Riya\"))\n",
    "heapq.heappush(customers, (4, \"Stacy\"))\n",
    "while customers:\n",
    "     print(heapq.heappop(customers)[1])\n",
    "#Will print names in the order: Riya, Harry, Charles, Stacy."
   ]
  },
  {
   "cell_type": "code",
   "execution_count": 1,
   "metadata": {},
   "outputs": [
    {
     "name": "stdout",
     "output_type": "stream",
     "text": [
      "Riya\n",
      "Harry\n",
      "Charles\n",
      "Stacy\n"
     ]
    }
   ],
   "source": [
    "from queue import PriorityQueue\n",
    "customers = PriorityQueue() #we initialise the PQ class instead of using a function to operate upon a list. \n",
    "customers.put((2, \"Harry\"))\n",
    "customers.put((3, \"Charles\"))\n",
    "customers.put((1, \"Riya\"))\n",
    "customers.put((4, \"Stacy\"))\n",
    "while not customers.empty():\n",
    "     print(customers.get()[1])\n",
    "#Will print names in the order: Riya, Harry, Charles, Stacy."
   ]
  }
 ],
 "metadata": {
  "kernelspec": {
   "display_name": "Python 3",
   "language": "python",
   "name": "python3"
  },
  "language_info": {
   "codemirror_mode": {
    "name": "ipython",
    "version": 3
   },
   "file_extension": ".py",
   "mimetype": "text/x-python",
   "name": "python",
   "nbconvert_exporter": "python",
   "pygments_lexer": "ipython3",
   "version": "3.11.9"
  }
 },
 "nbformat": 4,
 "nbformat_minor": 2
}
